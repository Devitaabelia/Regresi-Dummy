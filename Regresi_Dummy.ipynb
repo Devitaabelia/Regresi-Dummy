{
  "nbformat": 4,
  "nbformat_minor": 0,
  "metadata": {
    "colab": {
      "provenance": []
    },
    "kernelspec": {
      "name": "python3",
      "display_name": "Python 3"
    },
    "language_info": {
      "name": "python"
    }
  },
  "cells": [
    {
      "cell_type": "markdown",
      "source": [
        "# IMPORT PACKAGE"
      ],
      "metadata": {
        "id": "QTSpFA0Szb9Z"
      }
    },
    {
      "cell_type": "code",
      "execution_count": 1,
      "metadata": {
        "id": "N7xcuWGeo_mW"
      },
      "outputs": [],
      "source": [
        "import pandas as pd\n",
        "import statsmodels.api as sm\n",
        "import numpy as np\n",
        "from sklearn.metrics import mean_absolute_error, mean_squared_error, mean_absolute_percentage_error\n",
        "import matplotlib.pyplot as plt\n",
        "import scipy.stats as stats\n",
        "from statsmodels.stats.diagnostic import het_breuschpagan"
      ]
    },
    {
      "cell_type": "markdown",
      "source": [
        "# IMPORT DATA"
      ],
      "metadata": {
        "id": "4bOfyykZzhh6"
      }
    },
    {
      "cell_type": "code",
      "source": [
        "# Coba baca berkas dengan pengkodean yang berbeda, seperti 'latin-1'\n",
        "df = pd.read_csv('Jumlah Keberangkatan Penumpang Pelabuhan Tanjung Perak.csv', encoding='latin-1')\n",
        "df['Bulan'] = pd.to_datetime(df['Bulan'])\n",
        "df.set_index('Bulan', inplace=True)\n",
        "\n",
        "# Tampilkan DataFrame\n",
        "print(df)"
      ],
      "metadata": {
        "colab": {
          "base_uri": "https://localhost:8080/"
        },
        "id": "IotqC_oDpwci",
        "outputId": "8b1c693c-f125-4122-bf65-14f3278cc3fa"
      },
      "execution_count": 2,
      "outputs": [
        {
          "output_type": "stream",
          "name": "stdout",
          "text": [
            "            Jumlah Keberangkatan Penumpang  DummyBulanIdulFitri  \\\n",
            "Bulan                                                             \n",
            "2014-01-01                         22103.0                  0.0   \n",
            "2014-02-01                         23436.0                  0.0   \n",
            "2014-03-01                         25760.0                  0.0   \n",
            "2014-04-01                         17508.0                  0.0   \n",
            "2014-05-01                         19552.0                  0.0   \n",
            "...                                    ...                  ...   \n",
            "2023-08-01                         74782.0                  0.0   \n",
            "2023-09-01                         63942.0                  0.0   \n",
            "2023-10-01                         68093.0                  0.0   \n",
            "2023-11-01                         53545.0                  0.0   \n",
            "2023-12-01                         46329.0                  0.0   \n",
            "\n",
            "           DummyIdulFitri DummyIdulAdha  DummyBulanIdulAdha  \n",
            "Bulan                                                        \n",
            "2014-01-01           0.00          0.00                 0.0  \n",
            "2014-02-01           0.00          0.00                 0.0  \n",
            "2014-03-01           0.00          0.00                 0.0  \n",
            "2014-04-01           0.00          0.00                 0.0  \n",
            "2014-05-01           0.00          0.00                 0.0  \n",
            "...                   ...           ...                 ...  \n",
            "2023-08-01           0.00          0.00                 0.0  \n",
            "2023-09-01           0.00          0.00                 0.0  \n",
            "2023-10-01           0.00          0.00                 0.0  \n",
            "2023-11-01           0.00          0.00                 0.0  \n",
            "2023-12-01           0.00          0.00                 0.0  \n",
            "\n",
            "[120 rows x 5 columns]\n"
          ]
        }
      ]
    },
    {
      "cell_type": "markdown",
      "source": [
        "# MEMBAGI DATA"
      ],
      "metadata": {
        "id": "QPrXFT0mzmU5"
      }
    },
    {
      "cell_type": "code",
      "source": [
        "# Membagi data menjadi insample (96 data pertama) dan outsample (12 data terakhir)\n",
        "insample = df[:96]   # 96 data pertama\n",
        "outsample = df[96:]  # 12 data terakhir"
      ],
      "metadata": {
        "id": "26Ec00Dfp0uG"
      },
      "execution_count": 3,
      "outputs": []
    },
    {
      "cell_type": "markdown",
      "source": [
        "# VARIABEL DEPENDEN DAN INDEPENDEN"
      ],
      "metadata": {
        "id": "2yEk9cofzpql"
      }
    },
    {
      "cell_type": "code",
      "source": [
        "# Definisikan variabel dependen (y) dan variabel independen (X) untuk insample\n",
        "y_insample = insample['Jumlah Keberangkatan Penumpang']\n",
        "X_insample = insample[['DummyBulanIdulFitri', 'DummyIdulFitri', 'DummyBulanIdulAdha', 'DummyIdulAdha']]"
      ],
      "metadata": {
        "id": "HrGDOYj9p4mw"
      },
      "execution_count": 4,
      "outputs": []
    },
    {
      "cell_type": "code",
      "source": [
        "# Definisikan variabel dependen (y) dan variabel independen (X) untuk insample\n",
        "y_outsample = outsample['Jumlah Keberangkatan Penumpang']\n",
        "X_outsample = outsample[['DummyBulanIdulFitri', 'DummyIdulFitri', 'DummyBulanIdulAdha', 'DummyIdulAdha']]"
      ],
      "metadata": {
        "id": "oU-0c2MKqMgs"
      },
      "execution_count": 5,
      "outputs": []
    },
    {
      "cell_type": "markdown",
      "source": [
        "# MENAMBAHKAN KONSTANTA"
      ],
      "metadata": {
        "id": "22Upb_0szvFm"
      }
    },
    {
      "cell_type": "code",
      "source": [
        "# Menambahkan konstanta ke dalam model regresi\n",
        "X_insample = sm.add_constant(X_insample)\n",
        "X_outsample = sm.add_constant(X_outsample)"
      ],
      "metadata": {
        "id": "RXkoM7lBp_Kg"
      },
      "execution_count": 6,
      "outputs": []
    },
    {
      "cell_type": "markdown",
      "source": [
        "# Stasioneritas"
      ],
      "metadata": {
        "id": "B_8-dFwyvFBF"
      }
    },
    {
      "cell_type": "markdown",
      "source": [
        "## Dalam Mean"
      ],
      "metadata": {
        "id": "-5eqRswhvKKS"
      }
    },
    {
      "cell_type": "markdown",
      "source": [
        "### Level"
      ],
      "metadata": {
        "id": "H9g6kjtcv2Du"
      }
    },
    {
      "cell_type": "code",
      "source": [
        "!pip install statsmodels\n",
        "import statsmodels.tsa.stattools as ts\n",
        "\n",
        "def test_stationarity(timeseries):\n",
        "    # Use ts.adfuller since the function is imported from statsmodels.tsa.stattools\n",
        "    result = ts.adfuller(timeseries, autolag='AIC')\n",
        "    print('ADF Statistic:', result[0])\n",
        "    print('p-value:', result[1])\n",
        "    print('Critical Values:', result[4])\n",
        "    if result[1] <= 0.05:\n",
        "        print(\"Stasioner\")\n",
        "    else:\n",
        "        print(\"Tidak Stasioner\")\n",
        "\n",
        "print(\"Uji Stasioneritas data asli (In-sample):\")\n",
        "test_stationarity(y_insample)"
      ],
      "metadata": {
        "colab": {
          "base_uri": "https://localhost:8080/"
        },
        "id": "p9a_SzDTvTPo",
        "outputId": "19c4399c-d0b0-417c-e160-1d9540a3118d"
      },
      "execution_count": 8,
      "outputs": [
        {
          "output_type": "stream",
          "name": "stdout",
          "text": [
            "Requirement already satisfied: statsmodels in /usr/local/lib/python3.10/dist-packages (0.14.3)\n",
            "Requirement already satisfied: numpy<3,>=1.22.3 in /usr/local/lib/python3.10/dist-packages (from statsmodels) (1.26.4)\n",
            "Requirement already satisfied: scipy!=1.9.2,>=1.8 in /usr/local/lib/python3.10/dist-packages (from statsmodels) (1.13.1)\n",
            "Requirement already satisfied: pandas!=2.1.0,>=1.4 in /usr/local/lib/python3.10/dist-packages (from statsmodels) (2.1.4)\n",
            "Requirement already satisfied: patsy>=0.5.6 in /usr/local/lib/python3.10/dist-packages (from statsmodels) (0.5.6)\n",
            "Requirement already satisfied: packaging>=21.3 in /usr/local/lib/python3.10/dist-packages (from statsmodels) (24.1)\n",
            "Requirement already satisfied: python-dateutil>=2.8.2 in /usr/local/lib/python3.10/dist-packages (from pandas!=2.1.0,>=1.4->statsmodels) (2.8.2)\n",
            "Requirement already satisfied: pytz>=2020.1 in /usr/local/lib/python3.10/dist-packages (from pandas!=2.1.0,>=1.4->statsmodels) (2024.2)\n",
            "Requirement already satisfied: tzdata>=2022.1 in /usr/local/lib/python3.10/dist-packages (from pandas!=2.1.0,>=1.4->statsmodels) (2024.1)\n",
            "Requirement already satisfied: six in /usr/local/lib/python3.10/dist-packages (from patsy>=0.5.6->statsmodels) (1.16.0)\n",
            "Uji Stasioneritas data asli (In-sample):\n",
            "ADF Statistic: -2.094931883155056\n",
            "p-value: 0.24655739429290313\n",
            "Critical Values: {'1%': -3.5117123057187376, '5%': -2.8970475206326833, '10%': -2.5857126912469153}\n",
            "Tidak Stasioner\n"
          ]
        }
      ]
    },
    {
      "cell_type": "markdown",
      "source": [
        "### Differencing 1"
      ],
      "metadata": {
        "id": "4KMq8YQNv8GA"
      }
    },
    {
      "cell_type": "code",
      "source": [
        "insample['diff'] = y_insample.diff().dropna()\n",
        "\n",
        "print(\"\\nUji Stasioneritas setelah differencing (In-sample):\")\n",
        "test_stationarity(insample['diff'].dropna())"
      ],
      "metadata": {
        "colab": {
          "base_uri": "https://localhost:8080/"
        },
        "id": "LvKj5A4UwHmD",
        "outputId": "17c7114f-2155-4671-84be-33b03743a315"
      },
      "execution_count": 9,
      "outputs": [
        {
          "output_type": "stream",
          "name": "stdout",
          "text": [
            "\n",
            "Uji Stasioneritas setelah differencing (In-sample):\n",
            "ADF Statistic: -4.069553791077843\n",
            "p-value: 0.0010870488298301143\n",
            "Critical Values: {'1%': -3.5117123057187376, '5%': -2.8970475206326833, '10%': -2.5857126912469153}\n",
            "Stasioner\n"
          ]
        },
        {
          "output_type": "stream",
          "name": "stderr",
          "text": [
            "<ipython-input-9-9c07b7f3db3b>:1: SettingWithCopyWarning: \n",
            "A value is trying to be set on a copy of a slice from a DataFrame.\n",
            "Try using .loc[row_indexer,col_indexer] = value instead\n",
            "\n",
            "See the caveats in the documentation: https://pandas.pydata.org/pandas-docs/stable/user_guide/indexing.html#returning-a-view-versus-a-copy\n",
            "  insample['diff'] = y_insample.diff().dropna()\n"
          ]
        }
      ]
    },
    {
      "cell_type": "markdown",
      "source": [
        "## Varians"
      ],
      "metadata": {
        "id": "rSZI7SPfvM1I"
      }
    },
    {
      "cell_type": "code",
      "source": [
        "from statsmodels.tsa.stattools import kpss\n",
        "\n",
        "# Asumsikan 'data' adalah data deret waktu Anda\n",
        "result = kpss(y_insample, regression='c')\n",
        "\n",
        "print('KPSS Statistic:', result[0])\n",
        "print('p-value:', result[1])\n",
        "print('Critical Values:', result[3])\n",
        "\n",
        "if result[1] > 0.05:\n",
        "    print(\"Stasioner dalam varians\")\n",
        "else:\n",
        "    print(\"Tidak stasioner dalam varians\")"
      ],
      "metadata": {
        "colab": {
          "base_uri": "https://localhost:8080/"
        },
        "id": "cO1tNCZhwV9L",
        "outputId": "feb417ba-dbd5-4be2-d865-b4409bdabb0d"
      },
      "execution_count": 10,
      "outputs": [
        {
          "output_type": "stream",
          "name": "stdout",
          "text": [
            "KPSS Statistic: 0.08051183870074664\n",
            "p-value: 0.1\n",
            "Critical Values: {'10%': 0.347, '5%': 0.463, '2.5%': 0.574, '1%': 0.739}\n",
            "Stasioner dalam varians\n"
          ]
        },
        {
          "output_type": "stream",
          "name": "stderr",
          "text": [
            "<ipython-input-10-a361914483f3>:4: InterpolationWarning: The test statistic is outside of the range of p-values available in the\n",
            "look-up table. The actual p-value is greater than the p-value returned.\n",
            "\n",
            "  result = kpss(y_insample, regression='c')\n"
          ]
        }
      ]
    },
    {
      "cell_type": "markdown",
      "source": [
        "# ESTIMASI PARAMETER"
      ],
      "metadata": {
        "id": "bWSsUYbez1aI"
      }
    },
    {
      "cell_type": "markdown",
      "source": [
        "## Idul Adha dan Idul Fitri"
      ],
      "metadata": {
        "id": "By4G3v1J06PO"
      }
    },
    {
      "cell_type": "code",
      "source": [
        "# Convert relevant columns in X_insample and insample['diff'] to numeric types\n",
        "X_insample = X_insample.apply(pd.to_numeric, errors='coerce').fillna(0) # Fill NaN values with 0\n",
        "insample['diff'] = pd.to_numeric(insample['diff'], errors='coerce').fillna(0) # Fill NaN values with 0\n",
        "\n",
        "# Create the model\n",
        "model = sm.OLS(insample['diff'], X_insample).fit()\n",
        "\n",
        "# Melihat ringkasan hasil model insample\n",
        "print(model.summary())"
      ],
      "metadata": {
        "colab": {
          "base_uri": "https://localhost:8080/"
        },
        "id": "rlyYPYRoqR57",
        "outputId": "20a6ed01-1936-49a6-824a-6129ca94e6dc"
      },
      "execution_count": 11,
      "outputs": [
        {
          "output_type": "stream",
          "name": "stdout",
          "text": [
            "                            OLS Regression Results                            \n",
            "==============================================================================\n",
            "Dep. Variable:                   diff   R-squared:                       0.229\n",
            "Model:                            OLS   Adj. R-squared:                  0.195\n",
            "Method:                 Least Squares   F-statistic:                     6.741\n",
            "Date:                Fri, 20 Sep 2024   Prob (F-statistic):           8.49e-05\n",
            "Time:                        04:48:51   Log-Likelihood:                -1086.7\n",
            "No. Observations:                  96   AIC:                             2183.\n",
            "Df Residuals:                      91   BIC:                             2196.\n",
            "Df Model:                           4                                         \n",
            "Covariance Type:            nonrobust                                         \n",
            "=======================================================================================\n",
            "                          coef    std err          t      P>|t|      [0.025      0.975]\n",
            "---------------------------------------------------------------------------------------\n",
            "const                 -30.3375   2290.171     -0.013      0.989   -4579.481    4518.806\n",
            "DummyBulanIdulFitri  1204.8375   1.47e+04      0.082      0.935   -2.79e+04    3.03e+04\n",
            "DummyIdulFitri       3.199e+04   1.67e+04      1.913      0.059   -1234.082    6.52e+04\n",
            "DummyBulanIdulAdha  -1.514e+04   1.47e+04     -1.033      0.305   -4.43e+04     1.4e+04\n",
            "DummyIdulAdha       -1.145e+04   1.67e+04     -0.685      0.495   -4.47e+04    2.18e+04\n",
            "==============================================================================\n",
            "Omnibus:                       32.519   Durbin-Watson:                   2.700\n",
            "Prob(Omnibus):                  0.000   Jarque-Bera (JB):              203.635\n",
            "Skew:                           0.785   Prob(JB):                     6.04e-45\n",
            "Kurtosis:                       9.960   Cond. No.                         10.4\n",
            "==============================================================================\n",
            "\n",
            "Notes:\n",
            "[1] Standard Errors assume that the covariance matrix of the errors is correctly specified.\n"
          ]
        },
        {
          "output_type": "stream",
          "name": "stderr",
          "text": [
            "<ipython-input-11-56d23b90a9b7>:3: SettingWithCopyWarning: \n",
            "A value is trying to be set on a copy of a slice from a DataFrame.\n",
            "Try using .loc[row_indexer,col_indexer] = value instead\n",
            "\n",
            "See the caveats in the documentation: https://pandas.pydata.org/pandas-docs/stable/user_guide/indexing.html#returning-a-view-versus-a-copy\n",
            "  insample['diff'] = pd.to_numeric(insample['diff'], errors='coerce').fillna(0) # Fill NaN values with 0\n"
          ]
        }
      ]
    },
    {
      "cell_type": "markdown",
      "source": [
        "## Idul Fitri"
      ],
      "metadata": {
        "id": "vP3cCI2e1xZA"
      }
    },
    {
      "cell_type": "markdown",
      "source": [
        "### Variabel Dummy Gabungan Idul Fitri dan Bulan Idul Fitri"
      ],
      "metadata": {
        "id": "jolXztCk1C4v"
      }
    },
    {
      "cell_type": "code",
      "source": [
        "# Convert relevant columns in X_insample and insample['diff'] to numeric types\n",
        "X_insample = X_insample.apply(pd.to_numeric, errors='coerce').fillna(0) # Fill NaN values with 0\n",
        "insample['diff'] = pd.to_numeric(insample['diff'], errors='coerce').fillna(0) # Fill NaN values with 0\n",
        "\n",
        "# Create the model\n",
        "model = sm.OLS(insample['diff'], X_insample[['DummyBulanIdulFitri', 'DummyIdulFitri']]).fit()\n",
        "\n",
        "# Melihat ringkasan hasil model insample\n",
        "print(model.summary())"
      ],
      "metadata": {
        "colab": {
          "base_uri": "https://localhost:8080/"
        },
        "id": "2Vmku119qYLd",
        "outputId": "512eb072-33b0-46d3-8ebc-062ff2304122"
      },
      "execution_count": 12,
      "outputs": [
        {
          "output_type": "stream",
          "name": "stdout",
          "text": [
            "                                 OLS Regression Results                                \n",
            "=======================================================================================\n",
            "Dep. Variable:                   diff   R-squared (uncentered):                   0.133\n",
            "Model:                            OLS   Adj. R-squared (uncentered):              0.115\n",
            "Method:                 Least Squares   F-statistic:                              7.233\n",
            "Date:                Fri, 20 Sep 2024   Prob (F-statistic):                     0.00120\n",
            "Time:                        04:49:39   Log-Likelihood:                         -1092.3\n",
            "No. Observations:                  96   AIC:                                      2189.\n",
            "Df Residuals:                      94   BIC:                                      2194.\n",
            "Df Model:                           2                                                  \n",
            "Covariance Type:            nonrobust                                                  \n",
            "=======================================================================================\n",
            "                          coef    std err          t      P>|t|      [0.025      0.975]\n",
            "---------------------------------------------------------------------------------------\n",
            "DummyBulanIdulFitri  1174.5000   1.51e+04      0.078      0.938   -2.88e+04    3.12e+04\n",
            "DummyIdulFitri       3.199e+04   1.74e+04      1.834      0.070   -2643.374    6.66e+04\n",
            "==============================================================================\n",
            "Omnibus:                       25.943   Durbin-Watson:                   2.469\n",
            "Prob(Omnibus):                  0.000   Jarque-Bera (JB):              159.204\n",
            "Skew:                           0.513   Prob(JB):                     2.69e-35\n",
            "Kurtosis:                       9.225   Cond. No.                         3.78\n",
            "==============================================================================\n",
            "\n",
            "Notes:\n",
            "[1] R² is computed without centering (uncentered) since the model does not contain a constant.\n",
            "[2] Standard Errors assume that the covariance matrix of the errors is correctly specified.\n"
          ]
        },
        {
          "output_type": "stream",
          "name": "stderr",
          "text": [
            "<ipython-input-12-d780743aad99>:3: SettingWithCopyWarning: \n",
            "A value is trying to be set on a copy of a slice from a DataFrame.\n",
            "Try using .loc[row_indexer,col_indexer] = value instead\n",
            "\n",
            "See the caveats in the documentation: https://pandas.pydata.org/pandas-docs/stable/user_guide/indexing.html#returning-a-view-versus-a-copy\n",
            "  insample['diff'] = pd.to_numeric(insample['diff'], errors='coerce').fillna(0) # Fill NaN values with 0\n"
          ]
        }
      ]
    },
    {
      "cell_type": "markdown",
      "source": [
        "### Variabel Dummy Bulan Idul Fitri"
      ],
      "metadata": {
        "id": "F9hEw1AL1Pdi"
      }
    },
    {
      "cell_type": "code",
      "source": [
        "# Convert relevant columns in X_insample and insample['diff'] to numeric types\n",
        "X_insample = X_insample.apply(pd.to_numeric, errors='coerce').fillna(0) # Fill NaN values with 0\n",
        "insample['diff'] = pd.to_numeric(insample['diff'], errors='coerce').fillna(0) # Fill NaN values with 0\n",
        "\n",
        "# Create the model\n",
        "model = sm.OLS(insample['diff'], X_insample[['DummyBulanIdulFitri']]).fit()\n",
        "\n",
        "# Melihat ringkasan hasil model insample\n",
        "print(model.summary())"
      ],
      "metadata": {
        "colab": {
          "base_uri": "https://localhost:8080/"
        },
        "id": "WEFoDB19qdkA",
        "outputId": "00a6a29b-6214-41be-c492-e18dcc3a67ee"
      },
      "execution_count": 13,
      "outputs": [
        {
          "output_type": "stream",
          "name": "stdout",
          "text": [
            "                                 OLS Regression Results                                \n",
            "=======================================================================================\n",
            "Dep. Variable:                   diff   R-squared (uncentered):                   0.102\n",
            "Model:                            OLS   Adj. R-squared (uncentered):              0.093\n",
            "Method:                 Least Squares   F-statistic:                              10.83\n",
            "Date:                Fri, 20 Sep 2024   Prob (F-statistic):                     0.00140\n",
            "Time:                        04:50:19   Log-Likelihood:                         -1094.0\n",
            "No. Observations:                  96   AIC:                                      2190.\n",
            "Df Residuals:                      95   BIC:                                      2192.\n",
            "Df Model:                           1                                                  \n",
            "Covariance Type:            nonrobust                                                  \n",
            "=======================================================================================\n",
            "                          coef    std err          t      P>|t|      [0.025      0.975]\n",
            "---------------------------------------------------------------------------------------\n",
            "DummyBulanIdulFitri  2.517e+04   7645.988      3.291      0.001    9986.420    4.03e+04\n",
            "==============================================================================\n",
            "Omnibus:                       25.807   Durbin-Watson:                   2.657\n",
            "Prob(Omnibus):                  0.000   Jarque-Bera (JB):              132.548\n",
            "Skew:                           0.598   Prob(JB):                     1.65e-29\n",
            "Kurtosis:                       8.631   Cond. No.                         1.00\n",
            "==============================================================================\n",
            "\n",
            "Notes:\n",
            "[1] R² is computed without centering (uncentered) since the model does not contain a constant.\n",
            "[2] Standard Errors assume that the covariance matrix of the errors is correctly specified.\n"
          ]
        },
        {
          "output_type": "stream",
          "name": "stderr",
          "text": [
            "<ipython-input-13-24e640e64586>:3: SettingWithCopyWarning: \n",
            "A value is trying to be set on a copy of a slice from a DataFrame.\n",
            "Try using .loc[row_indexer,col_indexer] = value instead\n",
            "\n",
            "See the caveats in the documentation: https://pandas.pydata.org/pandas-docs/stable/user_guide/indexing.html#returning-a-view-versus-a-copy\n",
            "  insample['diff'] = pd.to_numeric(insample['diff'], errors='coerce').fillna(0) # Fill NaN values with 0\n"
          ]
        }
      ]
    },
    {
      "cell_type": "markdown",
      "source": [
        "### Variabel Dummy Idul Fitri"
      ],
      "metadata": {
        "id": "_kFe0MKT1ZRQ"
      }
    },
    {
      "cell_type": "code",
      "source": [
        "# Convert relevant columns in X_insample and insample['diff'] to numeric types\n",
        "X_insample = X_insample.apply(pd.to_numeric, errors='coerce').fillna(0) # Fill NaN values with 0\n",
        "insample['diff'] = pd.to_numeric(insample['diff'], errors='coerce').fillna(0) # Fill NaN values with 0\n",
        "\n",
        "# Create the model\n",
        "model = sm.OLS(insample['diff'], X_insample[[ 'DummyIdulFitri']]).fit()\n",
        "\n",
        "# Melihat ringkasan hasil model insample\n",
        "print(model.summary())"
      ],
      "metadata": {
        "colab": {
          "base_uri": "https://localhost:8080/"
        },
        "id": "099SWRvKqnVQ",
        "outputId": "e0e3fdea-1b8d-46b9-db90-4ff9ce105d8f"
      },
      "execution_count": 14,
      "outputs": [
        {
          "output_type": "stream",
          "name": "stdout",
          "text": [
            "                                 OLS Regression Results                                \n",
            "=======================================================================================\n",
            "Dep. Variable:                   diff   R-squared (uncentered):                   0.133\n",
            "Model:                            OLS   Adj. R-squared (uncentered):              0.124\n",
            "Method:                 Least Squares   F-statistic:                              14.61\n",
            "Date:                Fri, 20 Sep 2024   Prob (F-statistic):                    0.000236\n",
            "Time:                        04:51:37   Log-Likelihood:                         -1092.3\n",
            "No. Observations:                  96   AIC:                                      2187.\n",
            "Df Residuals:                      95   BIC:                                      2189.\n",
            "Df Model:                           1                                                  \n",
            "Covariance Type:            nonrobust                                                  \n",
            "==================================================================================\n",
            "                     coef    std err          t      P>|t|      [0.025      0.975]\n",
            "----------------------------------------------------------------------------------\n",
            "DummyIdulFitri  3.316e+04   8675.268      3.823      0.000    1.59e+04    5.04e+04\n",
            "==============================================================================\n",
            "Omnibus:                       25.868   Durbin-Watson:                   2.459\n",
            "Prob(Omnibus):                  0.000   Jarque-Bera (JB):              158.765\n",
            "Skew:                           0.510   Prob(JB):                     3.35e-35\n",
            "Kurtosis:                       9.217   Cond. No.                         1.00\n",
            "==============================================================================\n",
            "\n",
            "Notes:\n",
            "[1] R² is computed without centering (uncentered) since the model does not contain a constant.\n",
            "[2] Standard Errors assume that the covariance matrix of the errors is correctly specified.\n"
          ]
        },
        {
          "output_type": "stream",
          "name": "stderr",
          "text": [
            "<ipython-input-14-9294fc7055e3>:3: SettingWithCopyWarning: \n",
            "A value is trying to be set on a copy of a slice from a DataFrame.\n",
            "Try using .loc[row_indexer,col_indexer] = value instead\n",
            "\n",
            "See the caveats in the documentation: https://pandas.pydata.org/pandas-docs/stable/user_guide/indexing.html#returning-a-view-versus-a-copy\n",
            "  insample['diff'] = pd.to_numeric(insample['diff'], errors='coerce').fillna(0) # Fill NaN values with 0\n"
          ]
        }
      ]
    },
    {
      "cell_type": "markdown",
      "source": [
        "## Idul Adha"
      ],
      "metadata": {
        "id": "QEh3ini71mPn"
      }
    },
    {
      "cell_type": "markdown",
      "source": [
        "### Variabel Dummy Gabungan Idul Adha dab Bulan Idul Adha"
      ],
      "metadata": {
        "id": "7Y7KmOU81dkV"
      }
    },
    {
      "cell_type": "code",
      "source": [
        "# Convert relevant columns in X_insample and insample['diff'] to numeric types\n",
        "X_insample = X_insample.apply(pd.to_numeric, errors='coerce').fillna(0) # Fill NaN values with 0\n",
        "insample['diff'] = pd.to_numeric(insample['diff'], errors='coerce').fillna(0) # Fill NaN values with 0\n",
        "\n",
        "# Create the model\n",
        "model = sm.OLS(insample['diff'], X_insample[['DummyBulanIdulAdha', 'DummyIdulAdha']]).fit()\n",
        "\n",
        "# Melihat ringkasan hasil model insample\n",
        "print(model.summary())"
      ],
      "metadata": {
        "colab": {
          "base_uri": "https://localhost:8080/"
        },
        "id": "Drjci0FTqtmF",
        "outputId": "59c70492-d9ac-4886-fe61-39e13a4fe121"
      },
      "execution_count": 15,
      "outputs": [
        {
          "output_type": "stream",
          "name": "stdout",
          "text": [
            "                                 OLS Regression Results                                \n",
            "=======================================================================================\n",
            "Dep. Variable:                   diff   R-squared (uncentered):                   0.095\n",
            "Model:                            OLS   Adj. R-squared (uncentered):              0.076\n",
            "Method:                 Least Squares   F-statistic:                              4.946\n",
            "Date:                Fri, 20 Sep 2024   Prob (F-statistic):                     0.00907\n",
            "Time:                        04:52:27   Log-Likelihood:                         -1094.3\n",
            "No. Observations:                  96   AIC:                                      2193.\n",
            "Df Residuals:                      94   BIC:                                      2198.\n",
            "Df Model:                           2                                                  \n",
            "Covariance Type:            nonrobust                                                  \n",
            "======================================================================================\n",
            "                         coef    std err          t      P>|t|      [0.025      0.975]\n",
            "--------------------------------------------------------------------------------------\n",
            "DummyBulanIdulAdha -1.517e+04   1.54e+04     -0.983      0.328   -4.58e+04    1.55e+04\n",
            "DummyIdulAdha      -1.145e+04   1.78e+04     -0.642      0.522   -4.68e+04    2.39e+04\n",
            "==============================================================================\n",
            "Omnibus:                       34.686   Durbin-Watson:                   2.664\n",
            "Prob(Omnibus):                  0.000   Jarque-Bera (JB):              132.389\n",
            "Skew:                           1.086   Prob(JB):                     1.79e-29\n",
            "Kurtosis:                       8.327   Cond. No.                         3.78\n",
            "==============================================================================\n",
            "\n",
            "Notes:\n",
            "[1] R² is computed without centering (uncentered) since the model does not contain a constant.\n",
            "[2] Standard Errors assume that the covariance matrix of the errors is correctly specified.\n"
          ]
        },
        {
          "output_type": "stream",
          "name": "stderr",
          "text": [
            "<ipython-input-15-59be0f399344>:3: SettingWithCopyWarning: \n",
            "A value is trying to be set on a copy of a slice from a DataFrame.\n",
            "Try using .loc[row_indexer,col_indexer] = value instead\n",
            "\n",
            "See the caveats in the documentation: https://pandas.pydata.org/pandas-docs/stable/user_guide/indexing.html#returning-a-view-versus-a-copy\n",
            "  insample['diff'] = pd.to_numeric(insample['diff'], errors='coerce').fillna(0) # Fill NaN values with 0\n"
          ]
        }
      ]
    },
    {
      "cell_type": "code",
      "source": [
        "# Convert relevant columns in X_insample and insample['diff'] to numeric types\n",
        "X_insample = X_insample.apply(pd.to_numeric, errors='coerce').fillna(0) # Fill NaN values with 0\n",
        "insample['diff']= pd.to_numeric(insample['diff'], errors='coerce').fillna(0) # Fill NaN values with 0\n",
        "\n",
        "# Create the model\n",
        "model = sm.OLS(insample['diff'], X_insample[['DummyBulanIdulAdha']]).fit()\n",
        "\n",
        "# Melihat ringkasan hasil model insample\n",
        "print(model.summary())"
      ],
      "metadata": {
        "colab": {
          "base_uri": "https://localhost:8080/"
        },
        "id": "NEnygKqJq5-M",
        "outputId": "b1ee0add-e16d-4725-e6bc-fcb349746762"
      },
      "execution_count": 16,
      "outputs": [
        {
          "output_type": "stream",
          "name": "stdout",
          "text": [
            "                                 OLS Regression Results                                \n",
            "=======================================================================================\n",
            "Dep. Variable:                   diff   R-squared (uncentered):                   0.091\n",
            "Model:                            OLS   Adj. R-squared (uncentered):              0.082\n",
            "Method:                 Least Squares   F-statistic:                              9.538\n",
            "Date:                Fri, 20 Sep 2024   Prob (F-statistic):                     0.00264\n",
            "Time:                        04:53:11   Log-Likelihood:                         -1094.5\n",
            "No. Observations:                  96   AIC:                                      2191.\n",
            "Df Residuals:                      95   BIC:                                      2194.\n",
            "Df Model:                           1                                                  \n",
            "Covariance Type:            nonrobust                                                  \n",
            "======================================================================================\n",
            "                         coef    std err          t      P>|t|      [0.025      0.975]\n",
            "--------------------------------------------------------------------------------------\n",
            "DummyBulanIdulAdha -2.376e+04   7693.197     -3.088      0.003    -3.9e+04   -8486.572\n",
            "==============================================================================\n",
            "Omnibus:                       34.240   Durbin-Watson:                   2.667\n",
            "Prob(Omnibus):                  0.000   Jarque-Bera (JB):              130.416\n",
            "Skew:                           1.069   Prob(JB):                     4.79e-29\n",
            "Kurtosis:                       8.294   Cond. No.                         1.00\n",
            "==============================================================================\n",
            "\n",
            "Notes:\n",
            "[1] R² is computed without centering (uncentered) since the model does not contain a constant.\n",
            "[2] Standard Errors assume that the covariance matrix of the errors is correctly specified.\n"
          ]
        },
        {
          "output_type": "stream",
          "name": "stderr",
          "text": [
            "<ipython-input-16-edc785063729>:3: SettingWithCopyWarning: \n",
            "A value is trying to be set on a copy of a slice from a DataFrame.\n",
            "Try using .loc[row_indexer,col_indexer] = value instead\n",
            "\n",
            "See the caveats in the documentation: https://pandas.pydata.org/pandas-docs/stable/user_guide/indexing.html#returning-a-view-versus-a-copy\n",
            "  insample['diff']= pd.to_numeric(insample['diff'], errors='coerce').fillna(0) # Fill NaN values with 0\n"
          ]
        }
      ]
    },
    {
      "cell_type": "code",
      "source": [
        "# Convert relevant columns in X_insample and insample['diff'] to numeric types\n",
        "X_insample = X_insample.apply(pd.to_numeric, errors='coerce').fillna(0) # Fill NaN values with 0\n",
        "insample['diff'] = pd.to_numeric(insample['diff'], errors='coerce').fillna(0) # Fill NaN values with 0\n",
        "\n",
        "# Create the model\n",
        "model = sm.OLS(insample['diff'], X_insample[[ 'DummyIdulAdha']]).fit()\n",
        "\n",
        "# Melihat ringkasan hasil model insample\n",
        "print(model.summary())"
      ],
      "metadata": {
        "colab": {
          "base_uri": "https://localhost:8080/"
        },
        "id": "fwEtFXizrARI",
        "outputId": "e3b8851c-c6df-43b0-c474-9b77032cb4ae"
      },
      "execution_count": 17,
      "outputs": [
        {
          "output_type": "stream",
          "name": "stdout",
          "text": [
            "                                 OLS Regression Results                                \n",
            "=======================================================================================\n",
            "Dep. Variable:                   diff   R-squared (uncentered):                   0.086\n",
            "Model:                            OLS   Adj. R-squared (uncentered):              0.076\n",
            "Method:                 Least Squares   F-statistic:                              8.929\n",
            "Date:                Fri, 20 Sep 2024   Prob (F-statistic):                     0.00357\n",
            "Time:                        04:54:04   Log-Likelihood:                         -1094.8\n",
            "No. Observations:                  96   AIC:                                      2192.\n",
            "Df Residuals:                      95   BIC:                                      2194.\n",
            "Df Model:                           1                                                  \n",
            "Covariance Type:            nonrobust                                                  \n",
            "=================================================================================\n",
            "                    coef    std err          t      P>|t|      [0.025      0.975]\n",
            "---------------------------------------------------------------------------------\n",
            "DummyIdulAdha -2.662e+04   8909.343     -2.988      0.004   -4.43e+04   -8934.718\n",
            "==============================================================================\n",
            "Omnibus:                       34.045   Durbin-Watson:                   2.624\n",
            "Prob(Omnibus):                  0.000   Jarque-Bera (JB):              128.059\n",
            "Skew:                           1.067   Prob(JB):                     1.56e-28\n",
            "Kurtosis:                       8.240   Cond. No.                         1.00\n",
            "==============================================================================\n",
            "\n",
            "Notes:\n",
            "[1] R² is computed without centering (uncentered) since the model does not contain a constant.\n",
            "[2] Standard Errors assume that the covariance matrix of the errors is correctly specified.\n"
          ]
        },
        {
          "output_type": "stream",
          "name": "stderr",
          "text": [
            "<ipython-input-17-4c617c7d4d4a>:3: SettingWithCopyWarning: \n",
            "A value is trying to be set on a copy of a slice from a DataFrame.\n",
            "Try using .loc[row_indexer,col_indexer] = value instead\n",
            "\n",
            "See the caveats in the documentation: https://pandas.pydata.org/pandas-docs/stable/user_guide/indexing.html#returning-a-view-versus-a-copy\n",
            "  insample['diff'] = pd.to_numeric(insample['diff'], errors='coerce').fillna(0) # Fill NaN values with 0\n"
          ]
        }
      ]
    },
    {
      "cell_type": "markdown",
      "source": [
        "Pemilihan model berdasarkan p-value kurang dari taraf signifikansi dalam hal ini taraf signifikansinya adalah 5 % dan juga yang mempunyai nilai AIC terkecil.\n",
        "Model terbaik yang terpilih adalah model regresi dummy idul fitri sehingga dapat dilanjutkan ke proses uji diagnostik model."
      ],
      "metadata": {
        "id": "j-rFz9zE18Ol"
      }
    },
    {
      "cell_type": "markdown",
      "source": [
        "# Uji Diagnostik Model"
      ],
      "metadata": {
        "id": "xkroUlp_rFbJ"
      }
    },
    {
      "cell_type": "code",
      "source": [
        "# Convert relevant columns in X_insample and insample['diff'] to numeric types\n",
        "X_insample = X_insample.apply(pd.to_numeric, errors='coerce').fillna(0) # Fill NaN values with 0\n",
        "insample['diff'] = pd.to_numeric(insample['diff'], errors='coerce').fillna(0) # Fill NaN values with 0\n",
        "\n",
        "# Create the model\n",
        "model = sm.OLS(insample['diff'], X_insample[['DummyIdulFitri']]).fit()\n",
        "\n",
        "# Mengambil residual dari model\n",
        "residuals = model.resid\n",
        "\n",
        "# Uji Heteroskedastisitas menggunakan Uji Breusch-Pagan\n",
        "bp_test = sm.stats.diagnostic.het_breuschpagan(residuals, X_insample)\n",
        "print('Uji Breusch-Pagan:')\n",
        "print(f'  Statistik: {bp_test[0]:.4f}')\n",
        "print(f'  p-value: {bp_test[1]:.4f}')\n",
        "\n",
        "# Evaluasi hasil uji heteroskedastisitas\n",
        "if bp_test[1] < 0.05:\n",
        "  print('  Indikasi heteroskedastisitas')\n",
        "else:\n",
        "  print('  Tidak ada indikasi heteroskedastisitas')\n",
        "\n",
        "# Uji Autokorelasi Residual menggunakan Uji Durbin-Watson\n",
        "dw_test = sm.stats.durbin_watson(residuals)\n",
        "print(f'Uji Durbin-Watson: {dw_test:.4f}')\n",
        "\n",
        "# Evaluasi hasil uji autokorelasi\n",
        "if dw_test < 1.5:\n",
        "    print('  Indikasi autokorelasi positif')\n",
        "elif dw_test > 2.5:\n",
        "    print('  Indikasi autokorelasi negatif')\n",
        "else:\n",
        "    print('  Tidak ada indikasi autokorelasi')\n",
        "\n",
        "# Visualisasi Normalitas dengan QQ plot\n",
        "sm.qqplot(residuals, line='45')\n",
        "plt.title('QQ Plot')\n",
        "plt.show()\n",
        "# Keputusan QQ Plot: Periksa apakah titik-titik berada di sepanjang garis 45 derajat. Jika tidak, ini menunjukkan deviasi dari normalitas."
      ],
      "metadata": {
        "colab": {
          "base_uri": "https://localhost:8080/",
          "height": 700
        },
        "id": "qNom7yBDrKnT",
        "outputId": "451989ff-2593-4aa3-ff75-3f06a0f83ed5"
      },
      "execution_count": 18,
      "outputs": [
        {
          "output_type": "stream",
          "name": "stderr",
          "text": [
            "<ipython-input-18-de6e736f0f1e>:3: SettingWithCopyWarning: \n",
            "A value is trying to be set on a copy of a slice from a DataFrame.\n",
            "Try using .loc[row_indexer,col_indexer] = value instead\n",
            "\n",
            "See the caveats in the documentation: https://pandas.pydata.org/pandas-docs/stable/user_guide/indexing.html#returning-a-view-versus-a-copy\n",
            "  insample['diff'] = pd.to_numeric(insample['diff'], errors='coerce').fillna(0) # Fill NaN values with 0\n"
          ]
        },
        {
          "output_type": "stream",
          "name": "stdout",
          "text": [
            "Uji Breusch-Pagan:\n",
            "  Statistik: 3.3825\n",
            "  p-value: 0.4960\n",
            "  Tidak ada indikasi heteroskedastisitas\n",
            "Uji Durbin-Watson: 2.4592\n",
            "  Tidak ada indikasi autokorelasi\n"
          ]
        },
        {
          "output_type": "display_data",
          "data": {
            "text/plain": [
              "<Figure size 640x480 with 1 Axes>"
            ],
            "image/png": "[encoded data removed]"
          },
          "metadata": {}
        }
      ]
    },
    {
      "cell_type": "markdown",
      "source": [
        "# Evaluasi Akurasi Model"
      ],
      "metadata": {
        "id": "G963E9h7sE8n"
      }
    },
    {
      "cell_type": "code",
      "source": [
        "import pandas as pd\n",
        "import statsmodels.api as sm\n",
        "import numpy as np\n",
        "from sklearn.metrics import mean_absolute_error, mean_squared_error, mean_absolute_percentage_error\n",
        "\n",
        "# Convert relevant columns in X_insample and insample['diff'] to numeric types\n",
        "X_insample = X_insample.apply(pd.to_numeric, errors='coerce').fillna(0) # Fill NaN values with 0\n",
        "insample['diff'] = pd.to_numeric(insample['diff'], errors='coerce').fillna(0) # Fill NaN values with 0\n",
        "\n",
        "# Create the model\n",
        "model = sm.OLS(insample['diff'], X_insample[['DummyIdulFitri']]).fit()\n",
        "\n",
        "# Prediksi untuk data insample\n",
        "# Use the same features for prediction as used for training the model\n",
        "y_pred_insample = model.predict(X_insample[['DummyIdulFitri']])\n",
        "\n",
        "# Evaluasi model untuk insample\n",
        "mae = mean_absolute_error(insample['diff'], y_pred_insample)\n",
        "mse = mean_squared_error(insample['diff'], y_pred_insample)\n",
        "rmse = np.sqrt(mse)\n",
        "mape = mean_absolute_percentage_error(insample['diff'], y_pred_insample)\n",
        "\n",
        "print('Evaluasi Model (Insample):')\n",
        "print(f'MAE: {mae:.2f}')\n",
        "print(f'MSE: {mse:.2f}')\n",
        "print(f'RMSE: {rmse:.2f}')\n",
        "print(f'MAPE: {mape:.2%}')\n",
        "\n",
        "# Definisikan variabel dependen (y) dan tambahkan variabel dummy Idul Fitri dan Time untuk outsample\n",
        "y_outsample = outsample['Jumlah Keberangkatan Penumpang']\n",
        "# Ensure the same features are used here as well.\n",
        "X_outsample = outsample[['DummyIdulFitri']]\n",
        "\n",
        "# Convert relevant columns to numeric types and handle NaN\n",
        "X_outsample = X_outsample.apply(pd.to_numeric, errors='coerce').fillna(0)\n",
        "y_outsample = pd.to_numeric(y_outsample, errors='coerce').fillna(0)\n",
        "\n",
        "# Menambahkan konstanta ke dalam model regresi\n",
        "# X_outsample = sm.add_constant(X_outsample)\n",
        "# You may not need to add a constant if your model was not trained with one.\n",
        "\n",
        "# Prediksi untuk data outsample\n",
        "y_pred_outsample = model.predict(X_outsample)\n",
        "\n",
        "# Evaluasi model untuk outsample\n",
        "mae_outsample = mean_absolute_error(y_outsample, y_pred_outsample)\n",
        "mse_outsample = mean_squared_error(y_outsample, y_pred_outsample)\n",
        "rmse_outsample = np.sqrt(mse_outsample)\n",
        "mape_outsample = mean_absolute_percentage_error(y_outsample, y_pred_outsample)\n",
        "\n",
        "print('Evaluasi Model (Outsample):')\n",
        "print(f'MAE: {mae_outsample:.2f}')\n",
        "print(f'MSE: {mse_outsample:.2f}')\n",
        "print(f'RMSE: {rmse_outsample:.2f}')\n",
        "print(f'MAPE: {mape_outsample:.2%}')"
      ],
      "metadata": {
        "colab": {
          "base_uri": "https://localhost:8080/"
        },
        "id": "t37KMR4Bt2e8",
        "outputId": "5d400f92-7ea3-4a73-8361-bad0f8ae6af7"
      },
      "execution_count": 19,
      "outputs": [
        {
          "output_type": "stream",
          "name": "stdout",
          "text": [
            "Evaluasi Model (Insample):\n",
            "MAE: 11643.05\n",
            "MSE: 446857847.87\n",
            "RMSE: 21139.01\n",
            "MAPE: 107.14%\n",
            "Evaluasi Model (Outsample):\n",
            "MAE: 51591.33\n",
            "MSE: 3266099147.16\n",
            "RMSE: 57149.80\n",
            "MAPE: 92.37%\n"
          ]
        },
        {
          "output_type": "stream",
          "name": "stderr",
          "text": [
            "<ipython-input-19-a9da1631cd74>:8: SettingWithCopyWarning: \n",
            "A value is trying to be set on a copy of a slice from a DataFrame.\n",
            "Try using .loc[row_indexer,col_indexer] = value instead\n",
            "\n",
            "See the caveats in the documentation: https://pandas.pydata.org/pandas-docs/stable/user_guide/indexing.html#returning-a-view-versus-a-copy\n",
            "  insample['diff'] = pd.to_numeric(insample['diff'], errors='coerce').fillna(0) # Fill NaN values with 0\n"
          ]
        }
      ]
    }
  ]
}